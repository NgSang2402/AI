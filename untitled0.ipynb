{
  "nbformat": 4,
  "nbformat_minor": 0,
  "metadata": {
    "colab": {
      "provenance": []
    },
    "kernelspec": {
      "name": "python3",
      "display_name": "Python 3"
    },
    "language_info": {
      "name": "python"
    }
  },
  "cells": [
    {
      "cell_type": "code",
      "source": [
        "import pandas as pd\n",
        "url = 'http://winterolympicsmedals.com/medals.csv'\n",
        "data = pd.read_csv(url)\n",
        "data\n",
        "#Tìm số lượng huy chương vang của nước nào đó\n",
        "#Tìm số huy chương vàng theo cuộc thi cá nhân của nước nào đó\n",
        "#Tính số lượng huy chương trung bình của 1 đội, 1 nước,..."
      ],
      "metadata": {
        "id": "m8PnFTY3eoEb"
      },
      "execution_count": null,
      "outputs": []
    },
    {
      "cell_type": "code",
      "source": [
        "data = data.set_index(data['NOC'])\n",
        "data.loc['CAN']"
      ],
      "metadata": {
        "id": "pdxQyT_Dep9C"
      },
      "execution_count": null,
      "outputs": []
    },
    {
      "cell_type": "code",
      "source": [
        "data[(data['Event'] == 'individual') & (data['Medal'] == 'Gold')]\n",
        "print('Nguoi',(data['Medal'] == 'Gold').count())"
      ],
      "metadata": {
        "colab": {
          "base_uri": "https://localhost:8080/"
        },
        "id": "ITLe3d7oerhn",
        "outputId": "0b1c024e-4f5a-42d4-b87d-df305c568526"
      },
      "execution_count": null,
      "outputs": [
        {
          "output_type": "stream",
          "name": "stdout",
          "text": [
            "Nguoi 2311\n"
          ]
        }
      ]
    },
    {
      "cell_type": "code",
      "source": [
        "data[(data['NOC'] == 'ITA') & (data['Medal'] == 'Silver')]"
      ],
      "metadata": {
        "id": "ywbRJynrew5v"
      },
      "execution_count": null,
      "outputs": []
    },
    {
      "cell_type": "code",
      "source": [
        "data[(data['NOC'] == 'FRA') & (data['Medal'] == 'Bronze')]"
      ],
      "metadata": {
        "id": "Ka5WMwIgeysL"
      },
      "execution_count": null,
      "outputs": []
    },
    {
      "cell_type": "code",
      "source": [
        "data[data['NOC']=='CAN'].head(20)"
      ],
      "metadata": {
        "id": "A0sr-qGQe1KF"
      },
      "execution_count": null,
      "outputs": []
    },
    {
      "cell_type": "code",
      "source": [
        "data_CAN = data[data['NOC']=='CAN']"
      ],
      "metadata": {
        "id": "NIS9BMiZe5WQ"
      },
      "execution_count": null,
      "outputs": []
    },
    {
      "cell_type": "code",
      "source": [
        "data_CAN[data_CAN['Medal']=='Gold']"
      ],
      "metadata": {
        "id": "r9slkdy2e7pW"
      },
      "execution_count": null,
      "outputs": []
    },
    {
      "cell_type": "code",
      "source": [
        "data_CAN.groupby('Medal').count()"
      ],
      "metadata": {
        "id": "_Htc0Kxle9Du"
      },
      "execution_count": null,
      "outputs": []
    },
    {
      "cell_type": "code",
      "source": [
        "gold_medal = data[(data['Medal']=='Gold')&(data['Event']=='individual')]"
      ],
      "metadata": {
        "id": "ZuTGJLYoe-aa"
      },
      "execution_count": null,
      "outputs": []
    },
    {
      "cell_type": "code",
      "source": [
        "gold_medal['Medal'].unique()\n",
        "gold_medal['Medal'].value_counts()"
      ],
      "metadata": {
        "colab": {
          "base_uri": "https://localhost:8080/"
        },
        "id": "4GNn5gKYjrEg",
        "outputId": "e0a741a0-4e46-4fe5-f09b-1fb761f8ead9"
      },
      "execution_count": null,
      "outputs": [
        {
          "output_type": "execute_result",
          "data": {
            "text/plain": [
              "Gold    65\n",
              "Name: Medal, dtype: int64"
            ]
          },
          "metadata": {},
          "execution_count": 39
        }
      ]
    }
  ]
}